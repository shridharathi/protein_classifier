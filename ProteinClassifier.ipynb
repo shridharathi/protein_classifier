{
 "cells": [
  {
   "cell_type": "code",
   "execution_count": 2,
   "metadata": {},
   "outputs": [],
   "source": [
    "import pandas as pd\n",
    "import numpy as np\n",
    "from matplotlib import pyplot as plt\n",
    "import seaborn as sns\n",
    "from sklearn.feature_extraction.text import CountVectorizer\n",
    "from sklearn.model_selection import train_test_split\n",
    "from sklearn.metrics import accuracy_score, confusion_matrix, classification_report\n",
    "from sklearn.naive_bayes import MultinomialNB\n",
    "import pickle"
   ]
  },
  {
   "cell_type": "markdown",
   "metadata": {},
   "source": [
    "# Data Clean Up"
   ]
  },
  {
   "cell_type": "code",
   "execution_count": 24,
   "metadata": {},
   "outputs": [],
   "source": [
    "dups = pd.read_csv('pdb_data_no_dups.csv')"
   ]
  },
  {
   "cell_type": "code",
   "execution_count": 25,
   "metadata": {},
   "outputs": [],
   "source": [
    "seq = pd.read_csv('pdb_data_seq.csv')"
   ]
  },
  {
   "cell_type": "code",
   "execution_count": 26,
   "metadata": {},
   "outputs": [],
   "source": [
    "prot = dups.merge(seq, how='inner', on='structureId')"
   ]
  },
  {
   "cell_type": "code",
   "execution_count": 27,
   "metadata": {},
   "outputs": [],
   "source": [
    "prot = prot[prot['macromoleculeType_x']=='Protein']"
   ]
  },
  {
   "cell_type": "code",
   "execution_count": 28,
   "metadata": {},
   "outputs": [],
   "source": [
    "prot = prot[prot['classification']==prot['classification']]"
   ]
  },
  {
   "cell_type": "code",
   "execution_count": 29,
   "metadata": {},
   "outputs": [],
   "source": [
    "prot = prot[prot['sequence']==prot['sequence']]"
   ]
  },
  {
   "cell_type": "code",
   "execution_count": 46,
   "metadata": {},
   "outputs": [
    {
     "name": "stdout",
     "output_type": "stream",
     "text": [
      "HYDROLASE                        46336\n",
      "TRANSFERASE                      36424\n",
      "OXIDOREDUCTASE                   34321\n",
      "IMMUNE SYSTEM                    15615\n",
      "LYASE                            11682\n",
      "HYDROLASE/HYDROLASE INHIBITOR    11218\n",
      "TRANSCRIPTION                     8919\n",
      "VIRAL PROTEIN                     8495\n",
      "TRANSPORT PROTEIN                 8371\n",
      "VIRUS                             6972\n",
      "Name: classification, dtype: int64\n"
     ]
    }
   ],
   "source": [
    "counts = prot.classification.value_counts()\n",
    "print(counts[:10])"
   ]
  },
  {
   "cell_type": "code",
   "execution_count": 47,
   "metadata": {},
   "outputs": [],
   "source": [
    "types = np.asarray(counts[(counts > 6971)].index)"
   ]
  },
  {
   "cell_type": "code",
   "execution_count": 50,
   "metadata": {},
   "outputs": [],
   "source": [
    "prot = prot[prot.classification.isin(types)]"
   ]
  },
  {
   "cell_type": "code",
   "execution_count": 49,
   "metadata": {},
   "outputs": [],
   "source": [
    "prot.to_csv('protein_data.csv')"
   ]
  },
  {
   "cell_type": "code",
   "execution_count": 51,
   "metadata": {},
   "outputs": [],
   "source": [
    "prot[:180000].to_csv('protein_train.csv')\n",
    "prot[180001:].to_csv('protein_test.csv')"
   ]
  },
  {
   "cell_type": "markdown",
   "metadata": {},
   "source": [
    "# With scikit-learn (start here!)"
   ]
  },
  {
   "cell_type": "code",
   "execution_count": 18,
   "metadata": {},
   "outputs": [],
   "source": [
    "data = pd.read_csv('protein_data.csv')"
   ]
  },
  {
   "cell_type": "code",
   "execution_count": 19,
   "metadata": {},
   "outputs": [],
   "source": [
    "X_train, X_test,y_train,y_test = train_test_split(data['sequence'], data['classification'], test_size = 0.04, random_state = 1)"
   ]
  },
  {
   "cell_type": "code",
   "execution_count": 20,
   "metadata": {},
   "outputs": [],
   "source": [
    "vect = CountVectorizer(analyzer = 'char_wb', ngram_range = (4,4))"
   ]
  },
  {
   "cell_type": "code",
   "execution_count": 21,
   "metadata": {},
   "outputs": [],
   "source": [
    "vect.fit(X_train)\n",
    "X_train_df = vect.transform(X_train)\n",
    "X_test_df = vect.transform(X_test)"
   ]
  },
  {
   "cell_type": "code",
   "execution_count": 201,
   "metadata": {},
   "outputs": [
    {
     "name": "stdout",
     "output_type": "stream",
     "text": [
      "0.8573324485733245\n"
     ]
    }
   ],
   "source": [
    "prediction = dict()\n",
    "\n",
    "# Naive Bayes Model\n",
    "\n",
    "model = MultinomialNB()\n",
    "model.fit(X_train_df, y_train)\n",
    "NB_pred = model.predict(X_test_df)\n",
    "\n",
    "print(accuracy_score(NB_pred, y_test))"
   ]
  },
  {
   "cell_type": "code",
   "execution_count": 202,
   "metadata": {},
   "outputs": [
    {
     "name": "stdout",
     "output_type": "stream",
     "text": [
      "                               precision    recall  f1-score   support\n",
      "\n",
      "                    HYDROLASE       0.81      0.82      0.82      1839\n",
      "                  TRANSFERASE       0.65      0.81      0.72       447\n",
      "               OXIDOREDUCTASE       0.94      0.83      0.88       623\n",
      "                IMMUNE SYSTEM       0.93      0.89      0.91       465\n",
      "                        LYASE       0.95      0.90      0.93      1362\n",
      "HYDROLASE/HYDROLASE INHIBITOR       0.88      0.79      0.83       351\n",
      "                TRANSCRIPTION       0.84      0.93      0.89      1476\n",
      "                VIRAL PROTEIN       0.90      0.83      0.86       328\n",
      "            TRANSPORT PROTEIN       0.86      0.69      0.77       345\n",
      "                        VIRUS       0.89      0.88      0.88       299\n",
      "\n",
      "                     accuracy                           0.86      7535\n",
      "                    macro avg       0.87      0.84      0.85      7535\n",
      "                 weighted avg       0.86      0.86      0.86      7535\n",
      "\n"
     ]
    }
   ],
   "source": [
    "print(classification_report(y_test, NB_pred, target_names = types))"
   ]
  },
  {
   "cell_type": "markdown",
   "metadata": {},
   "source": [
    "# Without scikit-learn"
   ]
  },
  {
   "cell_type": "code",
   "execution_count": 4,
   "metadata": {},
   "outputs": [],
   "source": [
    "train = pd.read_csv('protein_train.csv')"
   ]
  },
  {
   "cell_type": "code",
   "execution_count": 5,
   "metadata": {},
   "outputs": [],
   "source": [
    "test = pd.read_csv('protein_test.csv')"
   ]
  },
  {
   "cell_type": "code",
   "execution_count": 61,
   "metadata": {},
   "outputs": [],
   "source": [
    "class NaiveBayes:\n",
    "    \n",
    "    def __init__(self, use_mle):\n",
    "        self.label_counts = {}\n",
    "        self.feature_counts = {}\n",
    "        self.use_mle = use_mle\n",
    "        \n",
    "    def get_features_from_sequence(self, seq, n):\n",
    "        feats = set()\n",
    "        for i in range(len(seq)-(n-1)):\n",
    "            feats.add(seq[i: i+n])\n",
    "        return feats\n",
    "        \n",
    "    def fit(self, seqs, classifs, n):\n",
    "        for i in range(len(seqs)):\n",
    "            self.label_counts[classifs[i]] = self.label_counts.get(classifs[i], 0) + 1\n",
    "            feats = self.get_features_from_sequence(seqs[i], n)\n",
    "            for feat in feats:\n",
    "                tup = (classifs[i], feat)\n",
    "                self.feature_counts[tup] = self.feature_counts.get(tup, 0) + 1\n",
    "    \n",
    "    def predict(self, seqs, total, n):\n",
    "        final_preds = []\n",
    "        for seq in seqs:\n",
    "            preds = {}\n",
    "            features = self.get_features_from_sequence(seq, n)\n",
    "            for classif in self.label_counts.keys():\n",
    "                preds[classif] = 0\n",
    "                num = 0\n",
    "                den = 0\n",
    "                if not self.use_mle:\n",
    "                    num = 1\n",
    "                    den = len(self.label_counts)\n",
    "                classif_count = self.label_counts.get(classif, 0)\n",
    "                for feat in features:\n",
    "                    preds[classif] += np.log((self.feature_counts.get((classif, feat), 0)+num)/(classif_count+den))\n",
    "                preds[classif] += np.log(classif_count/total)\n",
    "            classif = max(preds, key=preds.get)\n",
    "            final_preds.append(classif)\n",
    "        return final_preds\n",
    "    \n",
    "    def print_stats(self, predicts, classifs, precision):\n",
    "        correct = {}\n",
    "        classif_dict = {}\n",
    "        values = classifs\n",
    "        if precision:\n",
    "            values = predicts\n",
    "        for i in range(len(predicts)):\n",
    "            classif_dict[values[i]] = classif_dict.get(values[i], 0) + 1\n",
    "            if predicts[i] == classifs[i]:\n",
    "                correct[values[i]] = correct.get(values[i], 0) + 1\n",
    "        avg = 0\n",
    "        for classif in classif_dict.keys():\n",
    "            p = correct[classif]/classif_dict[classif]\n",
    "            print(classif, p)\n",
    "            avg += p\n",
    "        print('Average: ', avg/len(classif_dict.keys()))\n",
    "    \n",
    "    def print_precisions(self, predicts, classifs):\n",
    "        self.print_stats(predicts, classifs, True)\n",
    "            \n",
    "    def print_recalls(self, predicts, classifs):\n",
    "        self.print_stats(predicts, classifs, False)\n",
    "        \n",
    "    def print_accuracy(self, predicts, classifs):\n",
    "        count = 0\n",
    "        for i in range(len(predicts)):\n",
    "            if predicts[i] == classifs[i]:\n",
    "                count += 1\n",
    "        print(count/len(test['classification']))"
   ]
  },
  {
   "cell_type": "code",
   "execution_count": 62,
   "metadata": {},
   "outputs": [],
   "source": [
    "nb = NaiveBayes(False)"
   ]
  },
  {
   "cell_type": "code",
   "execution_count": 63,
   "metadata": {},
   "outputs": [],
   "source": [
    "nb.fit(train['sequence'], train['classification'], 4)"
   ]
  },
  {
   "cell_type": "code",
   "execution_count": 64,
   "metadata": {},
   "outputs": [],
   "source": [
    "predicts = nb.predict(test['sequence'], len(test['classification']), 4)"
   ]
  },
  {
   "cell_type": "code",
   "execution_count": 65,
   "metadata": {},
   "outputs": [
    {
     "name": "stdout",
     "output_type": "stream",
     "text": [
      "TRANSCRIPTION 0.851063829787234\n",
      "HYDROLASE 0.4473358116480793\n",
      "TRANSFERASE 0.5768463073852296\n",
      "OXIDOREDUCTASE 0.620866590649943\n",
      "HYDROLASE/HYDROLASE INHIBITOR 0.41935483870967744\n",
      "IMMUNE SYSTEM 0.8993212669683258\n",
      "LYASE 0.9482758620689655\n",
      "TRANSPORT PROTEIN 0.8746268656716418\n",
      "VIRAL PROTEIN 0.738831615120275\n",
      "VIRUS 0.6050420168067226\n",
      "Average:  0.6981565004816094\n"
     ]
    }
   ],
   "source": [
    "nb.print_precisions(predicts, test['classification'])"
   ]
  },
  {
   "cell_type": "code",
   "execution_count": 66,
   "metadata": {},
   "outputs": [
    {
     "name": "stdout",
     "output_type": "stream",
     "text": [
      "TRANSCRIPTION 0.36613272311212813\n",
      "HYDROLASE/HYDROLASE INHIBITOR 0.21487603305785125\n",
      "TRANSFERASE 0.7363057324840764\n",
      "HYDROLASE 0.6880559085133418\n",
      "OXIDOREDUCTASE 0.8649722001588562\n",
      "VIRAL PROTEIN 0.42322834645669294\n",
      "IMMUNE SYSTEM 0.726691042047532\n",
      "TRANSPORT PROTEIN 0.5069204152249135\n",
      "LYASE 0.5513784461152882\n",
      "VIRUS 0.10419681620839363\n",
      "Average:  0.5182757663379074\n"
     ]
    }
   ],
   "source": [
    "nb.print_recalls(predicts, test['classification'])"
   ]
  },
  {
   "cell_type": "code",
   "execution_count": 67,
   "metadata": {},
   "outputs": [
    {
     "name": "stdout",
     "output_type": "stream",
     "text": [
      "0.6148227969348659\n"
     ]
    }
   ],
   "source": [
    "nb.print_accuracy(predicts, test['classification'])"
   ]
  }
 ],
 "metadata": {
  "kernelspec": {
   "display_name": "Python 3",
   "language": "python",
   "name": "python3"
  },
  "language_info": {
   "codemirror_mode": {
    "name": "ipython",
    "version": 3
   },
   "file_extension": ".py",
   "mimetype": "text/x-python",
   "name": "python",
   "nbconvert_exporter": "python",
   "pygments_lexer": "ipython3",
   "version": "3.7.4"
  }
 },
 "nbformat": 4,
 "nbformat_minor": 2
}
